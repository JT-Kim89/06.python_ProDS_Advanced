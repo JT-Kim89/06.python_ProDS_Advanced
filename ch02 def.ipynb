{
 "cells": [
  {
   "cell_type": "markdown",
   "id": "4d26312d",
   "metadata": {},
   "source": [
    "# 02차시 데이터 전처리: 사용자 정의 함수 활용\n",
    "\n",
    "## 01 사용자 정의 함수 개요\n",
    "\n",
    "### 사용자 정의 함수 특징 및 사용\n",
    "\n",
    "- 가용한 함수를 조합하여 만든 새로운 함수\n",
    "- 라이브러리와 유사하게 사전 실행 및 등록 필요\n",
    "\n",
    "### 사용자 정의 함수 구조\n",
    "def #함수명(#인자):  \n",
    "   #실행 코드  \n",
    "   return #반환값  \n"
   ]
  },
  {
   "cell_type": "code",
   "execution_count": 1,
   "id": "fef93b4c",
   "metadata": {},
   "outputs": [
    {
     "data": {
      "text/plain": [
       "9"
      ]
     },
     "execution_count": 1,
     "metadata": {},
     "output_type": "execute_result"
    }
   ],
   "source": [
    "def plus(x, y):\n",
    "    result = x + y\n",
    "    return result\n",
    "\n",
    "plus(x = 4, y = 5)"
   ]
  },
  {
   "cell_type": "markdown",
   "id": "ee860765",
   "metadata": {},
   "source": [
    "## 02 사용자 정의 함수 설정 및 주의점\n",
    "\n",
    "### 들여쓰기\n",
    "\n",
    "- 제어문과 같이 사용자 정의 함수 또한 def 다음에 오는 실행코드 들여쓰기 필수\n",
    "- 들여쓰기를 올바르게 하지 않을 경우 에러 발생\n",
    "\n",
    "### 반환값\n",
    "\n",
    "- 함수 연산 결과를 별도의 객체에 할당하게 하기 위해서는 반환값 명시 필요\n",
    "- 반환하고자 하는 값 또는 객체를 \"return\" 뒤에 명시\n",
    "\n",
    "### 함수명\n",
    "\n",
    "- 새로 생성하는 함수는 기존에 사용하던 함수 또는 객체명과 다르게 하는 것을 권장\n",
    "- 함수 자체의 기능을 대표하는 이름 권장\n",
    "\n",
    "### 기본값\n",
    "\n",
    "- 특정 인자에 값 입력 여부에 관계없이 함수가 동작하게 할 때 사용\n",
    "- 사용자 정의 함수 생성 시 함수명 뒤 소괄호 내부에 지정\n"
   ]
  },
  {
   "cell_type": "code",
   "execution_count": 2,
   "id": "99efaa8f",
   "metadata": {},
   "outputs": [],
   "source": [
    "import pandas as pd"
   ]
  },
  {
   "cell_type": "code",
   "execution_count": 3,
   "id": "536dc716",
   "metadata": {},
   "outputs": [],
   "source": [
    "def udf_sum(x, y):\n",
    "    result = x + y\n",
    "    return result"
   ]
  },
  {
   "cell_type": "code",
   "execution_count": 5,
   "id": "10fe6ffb",
   "metadata": {},
   "outputs": [
    {
     "data": {
      "text/plain": [
       "0     6\n",
       "1     8\n",
       "2    10\n",
       "dtype: int64"
      ]
     },
     "execution_count": 5,
     "metadata": {},
     "output_type": "execute_result"
    }
   ],
   "source": [
    "udf_sum(pd.Series([2, 4, 6]), 4)"
   ]
  },
  {
   "cell_type": "code",
   "execution_count": 7,
   "id": "227cf1fa",
   "metadata": {},
   "outputs": [],
   "source": [
    "def udf_sum2(x, y):\n",
    "    result = x.sum() + y\n",
    "    return result"
   ]
  },
  {
   "cell_type": "code",
   "execution_count": 8,
   "id": "01cb12ac",
   "metadata": {},
   "outputs": [
    {
     "data": {
      "text/plain": [
       "16"
      ]
     },
     "execution_count": 8,
     "metadata": {},
     "output_type": "execute_result"
    }
   ],
   "source": [
    "udf_sum2(pd.Series([2, 4, 6]), 4)"
   ]
  },
  {
   "cell_type": "code",
   "execution_count": 9,
   "id": "56914ccc",
   "metadata": {},
   "outputs": [],
   "source": [
    "def udf_mean1(x):\n",
    "    result = round(x.mean(), 3)\n",
    "    return result"
   ]
  },
  {
   "cell_type": "code",
   "execution_count": 12,
   "id": "fb395e12",
   "metadata": {},
   "outputs": [
    {
     "data": {
      "text/plain": [
       "5.978"
      ]
     },
     "execution_count": 12,
     "metadata": {},
     "output_type": "execute_result"
    }
   ],
   "source": [
    "udf_mean1(pd.Series([4.752, 5.6346, 7.5476]))"
   ]
  },
  {
   "cell_type": "code",
   "execution_count": 13,
   "id": "063a5a34",
   "metadata": {},
   "outputs": [],
   "source": [
    "def udf_mean2(x, digit):\n",
    "    result = round(x.mean(), digit)\n",
    "    return result"
   ]
  },
  {
   "cell_type": "code",
   "execution_count": 14,
   "id": "3231ea0d",
   "metadata": {},
   "outputs": [
    {
     "data": {
      "text/plain": [
       "6.9"
      ]
     },
     "execution_count": 14,
     "metadata": {},
     "output_type": "execute_result"
    }
   ],
   "source": [
    "udf_mean2(pd.Series([3.6317, 7.6348, 9.43543]), digit = 2)"
   ]
  },
  {
   "cell_type": "code",
   "execution_count": 16,
   "id": "62c519f3",
   "metadata": {},
   "outputs": [],
   "source": [
    "def udf_mean3(x, digit = 2):\n",
    "    result = round(x.mean(), digit)\n",
    "    return result"
   ]
  },
  {
   "cell_type": "code",
   "execution_count": 18,
   "id": "e8e628b6",
   "metadata": {},
   "outputs": [
    {
     "data": {
      "text/plain": [
       "6.9"
      ]
     },
     "execution_count": 18,
     "metadata": {},
     "output_type": "execute_result"
    }
   ],
   "source": [
    "udf_mean3(pd.Series([3.6317, 7.6348, 9.43543]))"
   ]
  },
  {
   "cell_type": "markdown",
   "id": "832d4cb9",
   "metadata": {},
   "source": [
    "## Q1 입력 객체의 원소를 모두 제곱한 후 그 원소를 더한 다음 제곱근을 취하는 사용자 정의 함수를 만들었을 때 해당 사용자 정의 함수에 [3, 5, 9, 20] 를 입력으로 하는 경우 그 출력 값은?"
   ]
  },
  {
   "cell_type": "code",
   "execution_count": 20,
   "id": "01a4dd58",
   "metadata": {},
   "outputs": [
    {
     "data": {
      "text/plain": [
       "22.693611435820433"
      ]
     },
     "execution_count": 20,
     "metadata": {},
     "output_type": "execute_result"
    }
   ],
   "source": [
    "def square_sum(x):\n",
    "    result = x ** 2\n",
    "    result = result.sum() ** 0.5\n",
    "    return result\n",
    "\n",
    "x = pd.Series([3, 5, 9, 20])\n",
    "square_sum(x)"
   ]
  },
  {
   "cell_type": "code",
   "execution_count": 21,
   "id": "76e2ce38",
   "metadata": {},
   "outputs": [
    {
     "data": {
      "text/plain": [
       "22.693611435820433"
      ]
     },
     "execution_count": 21,
     "metadata": {},
     "output_type": "execute_result"
    }
   ],
   "source": [
    "## 답안\n",
    "def udf_euc(x):  # Euclidean Distance\n",
    "    result = x.pow(2).sum() ** 0.5\n",
    "    return result\n",
    "\n",
    "udf_euc(pd.Series([3, 5, 9, 20]))"
   ]
  },
  {
   "cell_type": "markdown",
   "id": "c10e2eaa",
   "metadata": {},
   "source": [
    "## Q2 표준화(Standardization) 사용자 정의 함수를 만들고 [-4, 5, 7, 9] 를 입력한 경우 여기서 입력한 7은 몇으로 반환되는가?"
   ]
  },
  {
   "cell_type": "code",
   "execution_count": 24,
   "id": "39799948",
   "metadata": {},
   "outputs": [],
   "source": [
    "def nor_std(x):\n",
    "    result = (x - x.mean()) / x.std()\n",
    "    return result   "
   ]
  },
  {
   "cell_type": "code",
   "execution_count": 25,
   "id": "33ea64f5",
   "metadata": {},
   "outputs": [
    {
     "data": {
      "text/plain": [
       "0   -1.437957\n",
       "1    0.130723\n",
       "2    0.479319\n",
       "3    0.827915\n",
       "dtype: float64"
      ]
     },
     "execution_count": 25,
     "metadata": {},
     "output_type": "execute_result"
    }
   ],
   "source": [
    "x = pd.Series([-4, 5, 7, 9])\n",
    "nor_std(x)"
   ]
  },
  {
   "cell_type": "markdown",
   "id": "4042b580",
   "metadata": {},
   "source": [
    "## Q3 MinMax 정규화 사용자 정의 함수를 만들고 [-4, 5, 7, 9]를 입력한 경우 여기서 입력한 7은 몇으로 반환되는가?"
   ]
  },
  {
   "cell_type": "code",
   "execution_count": 29,
   "id": "f19d5790",
   "metadata": {},
   "outputs": [],
   "source": [
    "def nor_minmax(x):\n",
    "    result = (x - x.min()) / (x.max() - x.min())\n",
    "    return result"
   ]
  },
  {
   "cell_type": "code",
   "execution_count": 30,
   "id": "73f5e747",
   "metadata": {},
   "outputs": [
    {
     "data": {
      "text/plain": [
       "0    0.000000\n",
       "1    0.692308\n",
       "2    0.846154\n",
       "3    1.000000\n",
       "dtype: float64"
      ]
     },
     "execution_count": 30,
     "metadata": {},
     "output_type": "execute_result"
    }
   ],
   "source": [
    "x = pd.Series([-4, 5, 7, 9])\n",
    "nor_minmax(x)"
   ]
  }
 ],
 "metadata": {
  "kernelspec": {
   "display_name": "Python 3 (ipykernel)",
   "language": "python",
   "name": "python3"
  },
  "language_info": {
   "codemirror_mode": {
    "name": "ipython",
    "version": 3
   },
   "file_extension": ".py",
   "mimetype": "text/x-python",
   "name": "python",
   "nbconvert_exporter": "python",
   "pygments_lexer": "ipython3",
   "version": "3.9.13"
  }
 },
 "nbformat": 4,
 "nbformat_minor": 5
}
